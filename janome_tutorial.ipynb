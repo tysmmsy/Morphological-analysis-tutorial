{
 "cells": [
  {
   "cell_type": "code",
   "execution_count": null,
   "metadata": {},
   "outputs": [],
   "source": [
    "%matplotlib inline\n",
    "!pip install janome\n",
    "\n",
    "import pandas as pd\n",
    "import numpy as np\n",
    "import matplotlib.pyplot as plt\n",
    "import scipy.spatial as sp\n",
    "import unicodedata\n",
    "from janome.tokenizer import Tokenizer"
   ]
  },
  {
   "cell_type": "code",
   "execution_count": null,
   "metadata": {},
   "outputs": [],
   "source": [
    "# データ読み込み\n",
    "dataset = pd.read_csv(\"sample.csv\")\n",
    "dataset.head()"
   ]
  },
  {
   "cell_type": "code",
   "execution_count": null,
   "metadata": {},
   "outputs": [],
   "source": [
    "# テキストの正規化\n",
    "dataset[\"title\"] = dataset[\"title\"].str.normalize(\"NFKC\")\n",
    "dataset.head()"
   ]
  },
  {
   "cell_type": "code",
   "execution_count": null,
   "metadata": {},
   "outputs": [],
   "source": [
    "# 形態素解析 前処理\n",
    "stop_words = [\"sample\"]\n",
    "\n",
    "def remove_stop_words(x):\n",
    "    for s in stop_words:\n",
    "        x = x.replace(s, '')\n",
    "    return x\n",
    "\n",
    "dataset[\"title\"] = dataset[\"title\"].apply(remove_stop_words)\n",
    "dataset.head()"
   ]
  },
  {
   "cell_type": "code",
   "execution_count": null,
   "metadata": {},
   "outputs": [],
   "source": [
    "t = Tokenizer(wakati=False)\n",
    "# 引数wakati\n",
    "# tokenize()メソッドの引数wakatiをTrueとするとTokenオブジェクトではなく表層形の文字列strのジェネレータを返す。\n",
    "\n",
    "result = []\n",
    "for token in t.tokenize(\"本日も晴天なり。\"):\n",
    "    result.append(token.surface)\n",
    "\n",
    "result"
   ]
  },
  {
   "cell_type": "code",
   "execution_count": null,
   "metadata": {},
   "outputs": [],
   "source": [
    "def get_surfaces(text):\n",
    "    result = []\n",
    "    for token in t.tokenize(text):\n",
    "        partOfSpeech = token.part_of_speech.split(',')[0]\n",
    "        if partOfSpeech in ['名詞']:\n",
    "            result.append(token.surface)\n",
    "    return \" \".join(result)"
   ]
  },
  {
   "cell_type": "code",
   "execution_count": null,
   "metadata": {},
   "outputs": [],
   "source": [
    "dataset['title_tokenized'][:10]\n",
    "dataset.head()"
   ]
  }
 ],
 "metadata": {
  "kernelspec": {
   "display_name": "base",
   "language": "python",
   "name": "python3"
  },
  "language_info": {
   "codemirror_mode": {
    "name": "ipython",
    "version": 3
   },
   "file_extension": ".py",
   "mimetype": "text/x-python",
   "name": "python",
   "nbconvert_exporter": "python",
   "pygments_lexer": "ipython3",
   "version": "3.7.3"
  },
  "orig_nbformat": 4,
  "vscode": {
   "interpreter": {
    "hash": "fc46576a84ff8f30228a78114c5603b86c822d1ba2e328301ea89d95f9d781a3"
   }
  }
 },
 "nbformat": 4,
 "nbformat_minor": 2
}
